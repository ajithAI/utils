{
 "cells": [
  {
   "cell_type": "code",
   "execution_count": 1,
   "metadata": {},
   "outputs": [],
   "source": [
    "import tensorflow as tf\n",
    "import os\n",
    "import numpy as np\n",
    "from tensorflow.python.platform import gfile"
   ]
  },
  {
   "cell_type": "code",
   "execution_count": null,
   "metadata": {},
   "outputs": [],
   "source": [
    "from tensorflow.python.ops import resource_variable_ops, resources"
   ]
  },
  {
   "cell_type": "code",
   "execution_count": null,
   "metadata": {},
   "outputs": [],
   "source": [
    "\n",
    "import tensorflow as tf\n",
    "import os\n",
    "import numpy as np\n",
    "from tensorflow.python.platform import gfile\n",
    "sess = tf.Session(config=tf.ConfigProto(allow_soft_placement=True, log_device_placement=True))\n",
    "f = gfile.FastGFile(\"model_faulty.pb\",'rb')\n",
    "graph_def = tf.GraphDef()\n",
    "graph_def.ParseFromString(f.read())\n",
    "tf.import_graph_def(graph_def, name='')\n",
    "\n",
    "# Print node names \n",
    "for n in tf.get_default_graph().as_graph_def().node:\n",
    "    print(n.name, n.op) \n",
    "#Inference \n",
    "input = sess.graph.get_tensor_by_name('conv2d_input:0')\n",
    "output = sess.graph.get_tensor_by_name('dense_1/Relu:0')\n",
    "sess.run(output, feed_dict={input : np.random.randn(1,32,32,1)})"
   ]
  },
  {
   "cell_type": "code",
   "execution_count": null,
   "metadata": {},
   "outputs": [],
   "source": [
    "sess = tf.Session(config=tf.ConfigProto(allow_soft_placement=True, log_device_placement=True))\n",
    "f = gfile.FastGFile(\"../../Desktop/nokia_model_2.pb\",'rb')\n",
    "graph_def = tf.GraphDef()\n",
    "graph_def.ParseFromString(f.read())\n",
    "tf.import_graph_def(graph_def, name='')\n",
    "for n in tf.get_default_graph().as_graph_def().node:\n",
    "    print(n.name, n.op)"
   ]
  },
  {
   "cell_type": "code",
   "execution_count": null,
   "metadata": {},
   "outputs": [],
   "source": [
    "input = sess.graph.get_tensor_by_name('input_1:0')\n",
    "output = sess.graph.get_tensor_by_name('dense_1/Relu:0')\n",
    "sess.run(output, feed_dict={input : np.random.randn(1,32,32,1)}) "
   ]
  },
  {
   "cell_type": "code",
   "execution_count": null,
   "metadata": {},
   "outputs": [],
   "source": [
    "FailedPreconditionError: Error while reading resource variable conv2d/kernel from Container: localhost. This could mean that the variable was uninitialized. Not found: Container localhost does not exist. (Could not find resource: localhost/conv2d/kernel)\n",
    "\t [[Node: conv2d/Conv2D/ReadVariableOp = ReadVariableOp[dtype=DT_FLOAT, _device=\"/job:localhost/replica:0/task:0/device:GPU:0\"](conv2d/kernel)]]\n",
    "\t [[Node: dense_1/Relu/_3 = _Recv[client_terminated=false, recv_device=\"/job:localhost/replica:0/task:0/device:CPU:0\", send_device=\"/job:localhost/replica:0/task:0/device:GPU:0\", send_device_incarnation=1, tensor_name=\"edge_61_dense_1/Relu\", tensor_type=DT_FLOAT, _device=\"/job:localhost/replica:0/task:0/device:CPU:0\"]()]]\n",
    "\n",
    "Caused by op 'conv2d/Conv2D/ReadVariableOp', defined at:\n",
    "  File \"c:\\users\\asirra\\appdata\\local\\programs\\python\\python35\\lib\\runpy.py\", line 184, in _run_module_as_main\n",
    "    \"__main__\", mod_spec)\n",
    "  File \"c:\\users\\asirra\\appdata\\local\\programs\\python\\python35\\lib\\runpy.py\", line 85, in _run_code\n",
    "    exec(code, run_globals)\n",
    "  File \"c:\\users\\asirra\\appdata\\local\\programs\\python\\python35\\lib\\site-packages\\ipykernel_launcher.py\", line 16, in <module>\n",
    "    app.launch_new_instance()\n",
    "  File \"c:\\users\\asirra\\appdata\\local\\programs\\python\\python35\\lib\\site-packages\\traitlets\\config\\application.py\", line 658, in launch_instance\n",
    "    app.start()\n",
    "  File \"c:\\users\\asirra\\appdata\\local\\programs\\python\\python35\\"
   ]
  },
  {
   "cell_type": "code",
   "execution_count": null,
   "metadata": {},
   "outputs": [],
   "source": [
    "input = sess.graph.get_tensor_by_name('conv2d_input:0')\n",
    "output = sess.graph.get_tensor_by_name('dense_1/Relu:0')\n",
    "sess.run(output, feed_dict={input : np.random.randn(1,32,32,1)})"
   ]
  },
  {
   "cell_type": "code",
   "execution_count": null,
   "metadata": {},
   "outputs": [],
   "source": [
    "sess = tf.Session(config=tf.ConfigProto(allow_soft_placement=True, log_device_placement=True))\n",
    "f = gfile.FastGFile(\"../../Desktop/MayBeImp/resnet50_v1.pb\",'rb')\n",
    "graph_def = tf.GraphDef()\n",
    "graph_def.ParseFromString(f.read())\n",
    "tf.import_graph_def(graph_def, name='')\n",
    "for n in tf.get_default_graph().as_graph_def().node:\n",
    "    print(n.name, n.op)\n",
    "    if n.op == \"Variable\"\n",
    "        print(n.name, n.op)\n",
    "#         print(n.name, n.op, sess.run(sess.graph.get_tensor_by_name(n.name+\":0\")))\n",
    "# l_output = sess.graph.get_tensor_by_name('dense/Relu:0')  "
   ]
  },
  {
   "cell_type": "code",
   "execution_count": null,
   "metadata": {},
   "outputs": [],
   "source": [
    "resnet_model/conv2d/kernel Const\n",
    "resnet_model/conv2d/kernel [[[[ 1.23592084e-02 -7.37380702e-03  5.06334880e-04 ... -7.74181541e-03\n",
    "     2.72302665e-02  7.42690824e-03]\n",
    "   [ 5.20915501e-02  6.23233942e-03  1.68205425e-02 ... -9.54892766e-03\n",
    "    -5.42956730e-03 -3.34597658e-03]\n",
    "   [ 1.77867115e-02 -7.97337294e-03  3.48019339e-02 ... -3.01163364e-03\n",
    "     4.07688096e-02  9.40900296e-03]]"
   ]
  },
  {
   "cell_type": "code",
   "execution_count": null,
   "metadata": {},
   "outputs": [],
   "source": [
    "conv2d/kernel VarHandleOp\n",
    "\n",
    "resnet_model/conv2d/kernel Const"
   ]
  },
  {
   "cell_type": "code",
   "execution_count": null,
   "metadata": {},
   "outputs": [],
   "source": [
    "input_1 Placeholder\n",
    "conv2d/kernel/Initializer/random_uniform/shape Const\n",
    "conv2d/kernel/Initializer/random_uniform/min Const\n",
    "conv2d/kernel/Initializer/random_uniform/max Const\n",
    "conv2d/kernel/Initializer/random_uniform/RandomUniform RandomUniform\n",
    "conv2d/kernel/Initializer/random_uniform/sub Sub\n",
    "conv2d/kernel/Initializer/random_uniform/mul Mul\n",
    "conv2d/kernel/Initializer/random_uniform Add\n",
    "conv2d/kernel VarHandleOp\n",
    "conv2d/kernel/IsInitialized/VarIsInitializedOp VarIsInitializedOp\n",
    "conv2d/kernel/Assign AssignVariableOp\n",
    "conv2d/kernel/Read/ReadVariableOp ReadVariableOp\n",
    "conv2d/bias/Initializer/zeros Const\n",
    "conv2d/bias VarHandleOp\n",
    "conv2d/bias/IsInitialized/VarIsInitializedOp VarIsInitializedOp\n",
    "conv2d/bias/Assign AssignVariableOp\n",
    "conv2d/bias/Read/ReadVariableOp ReadVariableOp\n",
    "conv2d/dilation_rate Const\n",
    "conv2d/Conv2D/ReadVariableOp ReadVariableOp\n",
    "conv2d/Conv2D Conv2D\n",
    "conv2d/BiasAdd/ReadVariableOp ReadVariableOp\n",
    "conv2d/BiasAdd BiasAdd\n",
    "conv2d/Relu Relu\n",
    "max_pooling2d/MaxPool MaxPool\n",
    "conv2d_1/kernel/Initializer/random_uniform/shape Const\n",
    "conv2d_1/kernel/Initializer/random_uniform/min Const\n",
    "conv2d_1/kernel/Initializer/random_uniform/max Const\n",
    "conv2d_1/kernel/Initializer/random_uniform/RandomUniform RandomUniform\n",
    "conv2d_1/kernel/Initializer/random_uniform/sub Sub\n",
    "conv2d_1/kernel/Initializer/random_uniform/mul Mul\n",
    "conv2d_1/kernel/Initializer/random_uniform Add\n",
    "conv2d_1/kernel VarHandleOp\n",
    "conv2d_1/kernel/IsInitialized/VarIsInitializedOp VarIsInitializedOp\n",
    "conv2d_1/kernel/Assign AssignVariableOp\n",
    "conv2d_1/kernel/Read/ReadVariableOp ReadVariableOp\n",
    "conv2d_1/bias/Initializer/zeros Const\n",
    "conv2d_1/bias VarHandleOp\n",
    "conv2d_1/bias/IsInitialized/VarIsInitializedOp VarIsInitializedOp\n",
    "conv2d_1/bias/Assign AssignVariableOp\n",
    "conv2d_1/bias/Read/ReadVariableOp ReadVariableOp\n",
    "conv2d_1/dilation_rate Const\n",
    "conv2d_1/Conv2D/ReadVariableOp ReadVariableOp\n",
    "conv2d_1/Conv2D Conv2D\n",
    "conv2d_1/BiasAdd/ReadVariableOp ReadVariableOp\n",
    "conv2d_1/BiasAdd BiasAdd\n",
    "conv2d_1/Relu Relu\n",
    "max_pooling2d_1/MaxPool MaxPool\n",
    "flatten/Shape Shape\n",
    "flatten/strided_slice/stack Const\n",
    "flatten/strided_slice/stack_1 Const\n",
    "flatten/strided_slice/stack_2 Const\n",
    "flatten/strided_slice StridedSlice\n",
    "flatten/Reshape/shape/1 Const\n",
    "flatten/Reshape/shape Pack\n",
    "flatten/Reshape Reshape\n",
    "dense/kernel/Initializer/random_uniform/shape Const\n",
    "dense/kernel/Initializer/random_uniform/min Const\n",
    "dense/kernel/Initializer/random_uniform/max Const\n",
    "dense/kernel/Initializer/random_uniform/RandomUniform RandomUniform\n",
    "dense/kernel/Initializer/random_uniform/sub Sub\n",
    "dense/kernel/Initializer/random_uniform/mul Mul\n",
    "dense/kernel/Initializer/random_uniform Add\n",
    "dense/kernel VarHandleOp\n",
    "dense/kernel/IsInitialized/VarIsInitializedOp VarIsInitializedOp\n",
    "dense/kernel/Assign AssignVariableOp\n",
    "dense/kernel/Read/ReadVariableOp ReadVariableOp\n",
    "dense/bias/Initializer/zeros Const\n",
    "dense/bias VarHandleOp\n",
    "dense/bias/IsInitialized/VarIsInitializedOp VarIsInitializedOp\n",
    "dense/bias/Assign AssignVariableOp\n",
    "dense/bias/Read/ReadVariableOp ReadVariableOp\n",
    "dense/MatMul/ReadVariableOp ReadVariableOp\n",
    "dense/MatMul MatMul\n",
    "dense/BiasAdd/ReadVariableOp ReadVariableOp\n",
    "dense/BiasAdd BiasAdd\n",
    "dense/Relu Relu\n",
    "dense_1/kernel/Initializer/random_uniform/shape Const\n",
    "dense_1/kernel/Initializer/random_uniform/min Const\n",
    "dense_1/kernel/Initializer/random_uniform/max Const\n",
    "dense_1/kernel/Initializer/random_uniform/RandomUniform RandomUniform\n",
    "dense_1/kernel/Initializer/random_uniform/sub Sub\n",
    "dense_1/kernel/Initializer/random_uniform/mul Mul\n",
    "dense_1/kernel/Initializer/random_uniform Add\n",
    "dense_1/kernel VarHandleOp\n",
    "dense_1/kernel/IsInitialized/VarIsInitializedOp VarIsInitializedOp\n",
    "dense_1/kernel/Assign AssignVariableOp\n",
    "dense_1/kernel/Read/ReadVariableOp ReadVariableOp\n",
    "dense_1/bias/Initializer/zeros Const\n",
    "dense_1/bias VarHandleOp\n",
    "dense_1/bias/IsInitialized/VarIsInitializedOp VarIsInitializedOp\n",
    "dense_1/bias/Assign AssignVariableOp\n",
    "dense_1/bias/Read/ReadVariableOp ReadVariableOp\n",
    "dense_1/MatMul/ReadVariableOp ReadVariableOp\n",
    "dense_1/MatMul MatMul\n",
    "dense_1/BiasAdd/ReadVariableOp ReadVariableOp\n",
    "dense_1/BiasAdd BiasAdd\n",
    "dense_1/Relu Relu"
   ]
  },
  {
   "cell_type": "code",
   "execution_count": null,
   "metadata": {},
   "outputs": [],
   "source": [
    "input_tensor softmax_tensor"
   ]
  },
  {
   "cell_type": "code",
   "execution_count": null,
   "metadata": {},
   "outputs": [],
   "source": [
    "tf.__version__"
   ]
  },
  {
   "cell_type": "code",
   "execution_count": null,
   "metadata": {},
   "outputs": [],
   "source": []
  }
 ],
 "metadata": {
  "kernelspec": {
   "display_name": "Python 3",
   "language": "python",
   "name": "python3"
  },
  "language_info": {
   "codemirror_mode": {
    "name": "ipython",
    "version": 3
   },
   "file_extension": ".py",
   "mimetype": "text/x-python",
   "name": "python",
   "nbconvert_exporter": "python",
   "pygments_lexer": "ipython3",
   "version": "3.9.1"
  }
 },
 "nbformat": 4,
 "nbformat_minor": 2
}

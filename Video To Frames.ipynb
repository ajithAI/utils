{
 "cells": [
  {
   "cell_type": "code",
   "execution_count": null,
   "id": "horizontal-console",
   "metadata": {},
   "outputs": [],
   "source": [
    "!ffmpeg --help "
   ]
  },
  {
   "cell_type": "code",
   "execution_count": null,
   "id": "hungarian-infrastructure",
   "metadata": {},
   "outputs": [],
   "source": [
    "!pip3 install ffmpeg-python"
   ]
  },
  {
   "cell_type": "code",
   "execution_count": 3,
   "id": "speaking-tyler",
   "metadata": {},
   "outputs": [
    {
     "name": "stderr",
     "output_type": "stream",
     "text": [
      "'ffmpeg' is not recognized as an internal or external command,\n",
      "operable program or batch file.\n"
     ]
    }
   ],
   "source": [
    "!ffmpeg -i ./20211123_090807.mp4 -qscale:v 2 pics/output_%03d.jpg"
   ]
  },
  {
   "cell_type": "code",
   "execution_count": 4,
   "id": "instrumental-hundred",
   "metadata": {},
   "outputs": [
    {
     "data": {
      "text/plain": [
       "True"
      ]
     },
     "execution_count": 4,
     "metadata": {},
     "output_type": "execute_result"
    }
   ],
   "source": [
    "import cv2\n",
    "import numpy as np\n",
    "\n",
    "# read image\n",
    "img = cv2.imread(\"imp/Frame_01.jpg\", cv2.IMREAD_COLOR)\n",
    "\n",
    "# normalize float versions\n",
    "norm_img1 = cv2.normalize(img, None, alpha=0, beta=1, norm_type=cv2.NORM_MINMAX, dtype=cv2.CV_32F)\n",
    "norm_img2 = cv2.normalize(img, None, alpha=0, beta=1.2, norm_type=cv2.NORM_MINMAX, dtype=cv2.CV_32F)\n",
    "\n",
    "# scale to uint8\n",
    "norm_img1 = (255*norm_img1).astype(np.uint8)\n",
    "norm_img2 = np.clip(norm_img2, 0, 1)\n",
    "norm_img2 = (255*norm_img2).astype(np.uint8)\n",
    "\n",
    "# write normalized output images\n",
    "cv2.imwrite(\"zelda1_bm20_cm20_normalize1.jpg\",norm_img1)\n",
    "cv2.imwrite(\"zelda1_bm20_cm20_normalize2.jpg\",norm_img2)"
   ]
  },
  {
   "cell_type": "code",
   "execution_count": null,
   "id": "changed-radiation",
   "metadata": {},
   "outputs": [],
   "source": []
  }
 ],
 "metadata": {
  "kernelspec": {
   "display_name": "Python 3",
   "language": "python",
   "name": "python3"
  },
  "language_info": {
   "codemirror_mode": {
    "name": "ipython",
    "version": 3
   },
   "file_extension": ".py",
   "mimetype": "text/x-python",
   "name": "python",
   "nbconvert_exporter": "python",
   "pygments_lexer": "ipython3",
   "version": "3.9.1"
  }
 },
 "nbformat": 4,
 "nbformat_minor": 5
}
